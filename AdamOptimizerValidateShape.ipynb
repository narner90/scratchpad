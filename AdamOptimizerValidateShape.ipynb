{
 "cells": [
  {
   "cell_type": "code",
   "execution_count": 1,
   "metadata": {
    "collapsed": true
   },
   "outputs": [],
   "source": [
    "import tensorflow as tf"
   ]
  },
  {
   "cell_type": "markdown",
   "metadata": {},
   "source": [
    "Solve for B where:\n",
    "$$Y = B*X$$\n",
    "For this example, B is initialized to (1, 2)"
   ]
  },
  {
   "cell_type": "code",
   "execution_count": 138,
   "metadata": {
    "collapsed": false
   },
   "outputs": [],
   "source": [
    "tf.reset_default_graph()\n",
    "opt = tf.train.GradientDescentOptimizer(1e-4)\n",
    "#opt = tf.train.AdamOptimizer()\n",
    "\n",
    "X = tf.placeholder(tf.float64, shape=[None, None], name='X')\n",
    "Y = tf.placeholder(tf.float64, shape=[None, 1], name='Y')\n",
    "B = tf.Variable(initial_value=tf.zeros([tf.shape(X)[1], 1], dtype=tf.float64), validate_shape=False, name='B')\n",
    "#B = tf.Variable(initial_value=tf.zeros([2, 1], dtype=tf.float64), name='B')\n",
    "\n",
    "prediction = tf.matmul(X, B)\n",
    "loss = tf.reduce_sum((Y- prediction) ** 2)\n",
    "opt_op = opt.minimize(loss)"
   ]
  },
  {
   "cell_type": "code",
   "execution_count": 139,
   "metadata": {
    "collapsed": false
   },
   "outputs": [],
   "source": [
    "np.random.seed(0)\n",
    "B_raw = np.array([1, 2])[:, np.newaxis]\n",
    "X_raw = np.random.rand(100, 2)\n",
    "Y_raw = np.matmul(X_raw, B_raw)"
   ]
  },
  {
   "cell_type": "code",
   "execution_count": 140,
   "metadata": {
    "collapsed": false
   },
   "outputs": [
    {
     "name": "stdout",
     "output_type": "stream",
     "text": [
      "Step: 0 Loss: 259.7055366249022\n",
      "Step: 1000 Loss: 0.15916870024833535\n",
      "Step: 2000 Loss: 0.005094220159142346\n",
      "Step: 3000 Loss: 0.00016304136777240313\n",
      "Step: 4000 Loss: 5.218166230471897e-06\n",
      "Step: 5000 Loss: 1.6700828250526624e-07\n",
      "Step: 6000 Loss: 5.345127999702728e-09\n",
      "Step: 7000 Loss: 1.710717152947138e-10\n",
      "Step: 8000 Loss: 5.4751788560016815e-12\n",
      "Step: 9000 Loss: 1.7523401463026313e-13\n",
      "[[ 1.00000002]\n",
      " [ 1.99999998]]\n"
     ]
    }
   ],
   "source": [
    "with tf.Session() as session:\n",
    "    fd = {X: X_raw, Y: Y_raw}\n",
    "\n",
    "    session.run(tf.initialize_all_variables(), feed_dict=fd)\n",
    "    \n",
    "    for i in range(0, 10000):\n",
    "        _, B_fit, current_loss = session.run([opt_op, B, loss], feed_dict=fd)\n",
    "        if i % 1000 == 0:\n",
    "            print('Step: {i} Loss: {current_loss}'.format(**locals()))\n",
    "    \n",
    "    print(B_fit)"
   ]
  },
  {
   "cell_type": "code",
   "execution_count": null,
   "metadata": {
    "collapsed": true
   },
   "outputs": [],
   "source": []
  }
 ],
 "metadata": {
  "kernelspec": {
   "display_name": "Python [Root]",
   "language": "python",
   "name": "Python [Root]"
  },
  "language_info": {
   "codemirror_mode": {
    "name": "ipython",
    "version": 3
   },
   "file_extension": ".py",
   "mimetype": "text/x-python",
   "name": "python",
   "nbconvert_exporter": "python",
   "pygments_lexer": "ipython3",
   "version": "3.5.2"
  }
 },
 "nbformat": 4,
 "nbformat_minor": 0
}
